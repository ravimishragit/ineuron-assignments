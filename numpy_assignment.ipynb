{
 "cells": [
  {
   "cell_type": "markdown",
   "metadata": {},
   "source": [
    "#### Write a function so that the columns of the output matrix are powers of the input vector. The order of the powers is determined by the increasing boolean argument. Specifically, when increasing is False, the i-th output column is the input vector raised element-wise to the power of N - i - 1. HINT: Such a matrix with a geometric progression in each row is named for Alexandre-Theophile Vandermonde."
   ]
  },
  {
   "cell_type": "code",
   "execution_count": 2,
   "metadata": {},
   "outputs": [],
   "source": [
    "import numpy as np"
   ]
  },
  {
   "cell_type": "code",
   "execution_count": 3,
   "metadata": {},
   "outputs": [],
   "source": [
    "def output_matrix(input_vector,increasing):\n",
    "    l=[]\n",
    "    N = len(input_vector)\n",
    "    if(increasing==True):\n",
    "        i = 0\n",
    "        while(i < N):\n",
    "            \n",
    "            l.append(list(map(lambda x : x**i, input_vector)))\n",
    "            i+=1\n",
    "    else:\n",
    "        i = N - 1\n",
    "        while( i >= 0):\n",
    "            l.append(list(map(lambda x : x**i, input_vector)))\n",
    "            i-=1\n",
    "    output = np.matrix(l).transpose()\n",
    "    return output"
   ]
  },
  {
   "cell_type": "code",
   "execution_count": 4,
   "metadata": {},
   "outputs": [],
   "source": [
    "input_vector = [1,2,3,4]"
   ]
  },
  {
   "cell_type": "code",
   "execution_count": 5,
   "metadata": {},
   "outputs": [
    {
     "data": {
      "text/plain": [
       "matrix([[ 1,  1,  1,  1],\n",
       "        [ 8,  4,  2,  1],\n",
       "        [27,  9,  3,  1],\n",
       "        [64, 16,  4,  1]])"
      ]
     },
     "execution_count": 5,
     "metadata": {},
     "output_type": "execute_result"
    }
   ],
   "source": [
    "output_matrix(input_vector,False)"
   ]
  },
  {
   "cell_type": "markdown",
   "metadata": {},
   "source": [
    "#### Problem Statement 2:\n",
    "#### Given a sequence of n values x1, x2, ..., xn and a window size k>0, the k-th moving average of the given sequence is defined as follows:The moving average sequence has n-k+1 elements as shown below.The moving averages with k=4 of a ten-value sequence (n=10) is shown below\n",
    "#### The moving average sequence has n-k+1 elements as shown below.\n",
    "#### The moving averages with k=4 of a ten-value sequence (n=10) is shown below\n",
    "#### i 1 2 3 4 5 6 7 8 9 10\n",
    "#### ===== == == == == == == == == == ==\n",
    "#### Input 10 20 30 40 50 60 70 80 90 100\n",
    "#### y1 25 = (10+20+30+40)/4\n",
    "#### y2 35 = (20+30+40+50)/4\n",
    "#### y3 45 = (30+40+50+60)/4\n",
    "#### y4 55 = (40+50+60+70)/4\n",
    "#### y5 65 = (50+60+70+80)/4\n",
    "#### y6 75 = (60+70+80+90)/4\n",
    "#### y7 85 = (70+80+90+100)/4\n",
    "#### Thus, the moving average sequence has n-k+1=10-4+1=7 values."
   ]
  },
  {
   "cell_type": "code",
   "execution_count": 8,
   "metadata": {},
   "outputs": [],
   "source": [
    "n_values = 10\n",
    "k=4\n",
    "input_values = [10,20,30,40,50,60,70,80,90,100]"
   ]
  },
  {
   "cell_type": "code",
   "execution_count": 34,
   "metadata": {},
   "outputs": [],
   "source": [
    "def find_mvg_avg(k,input_values):\n",
    "    n_values = len(input_values)\n",
    "    i=0\n",
    "    \n",
    "    output_values=[]\n",
    "    while(i<n_values-k+1):        \n",
    "        sum=0\n",
    "        j=0\n",
    "        n=i\n",
    "        while(j<k):\n",
    "            sum+=input_values[n]\n",
    "            n+=1\n",
    "            j+=1\n",
    "        output_values.append(sum/k)\n",
    "        j=0\n",
    "        i+=1\n",
    "        \n",
    "        \n",
    "    return output_values"
   ]
  },
  {
   "cell_type": "code",
   "execution_count": 35,
   "metadata": {},
   "outputs": [
    {
     "data": {
      "text/plain": [
       "[25.0, 35.0, 45.0, 55.0, 65.0, 75.0, 85.0]"
      ]
     },
     "execution_count": 35,
     "metadata": {},
     "output_type": "execute_result"
    }
   ],
   "source": [
    "find_mvg_avg(k,input_values)"
   ]
  },
  {
   "cell_type": "markdown",
   "metadata": {},
   "source": [
    "## Question: Write a function to find moving average in an array over a window:\n",
    "## Test it over [3, 5, 7, 2, 8, 10, 11, 65, 72, 81, 99, 100, 150] and window of 3."
   ]
  },
  {
   "cell_type": "code",
   "execution_count": 36,
   "metadata": {},
   "outputs": [
    {
     "data": {
      "text/plain": [
       "[5.0,\n",
       " 4.666666666666667,\n",
       " 5.666666666666667,\n",
       " 6.666666666666667,\n",
       " 9.666666666666666,\n",
       " 28.666666666666668,\n",
       " 49.333333333333336,\n",
       " 72.66666666666667,\n",
       " 84.0,\n",
       " 93.33333333333333,\n",
       " 116.33333333333333]"
      ]
     },
     "execution_count": 36,
     "metadata": {},
     "output_type": "execute_result"
    }
   ],
   "source": [
    "test_list=[3, 5, 7, 2, 8, 10, 11, 65, 72, 81, 99, 100, 150]\n",
    "k=3\n",
    "find_mvg_avg(k,test_list)"
   ]
  },
  {
   "cell_type": "code",
   "execution_count": null,
   "metadata": {},
   "outputs": [],
   "source": []
  }
 ],
 "metadata": {
  "kernelspec": {
   "display_name": "Python 3",
   "language": "python",
   "name": "python3"
  },
  "language_info": {
   "codemirror_mode": {
    "name": "ipython",
    "version": 3
   },
   "file_extension": ".py",
   "mimetype": "text/x-python",
   "name": "python",
   "nbconvert_exporter": "python",
   "pygments_lexer": "ipython3",
   "version": "3.8.2"
  }
 },
 "nbformat": 4,
 "nbformat_minor": 4
}
