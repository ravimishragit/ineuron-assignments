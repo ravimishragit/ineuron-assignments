{
 "cells": [
  {
   "cell_type": "markdown",
   "metadata": {},
   "source": [
    "## Task1-1 Write a function to compute 5/0 and use try/except to catch the exceptions."
   ]
  },
  {
   "cell_type": "code",
   "execution_count": 13,
   "metadata": {},
   "outputs": [],
   "source": [
    "def compute(num1,number):\n",
    "    result = [];\n",
    "    for i in num1:\n",
    "        try:\n",
    "            result.append(number/i)\n",
    "        except:\n",
    "            print(\"Not divisible by 0\")\n",
    "    return result"
   ]
  },
  {
   "cell_type": "code",
   "execution_count": 14,
   "metadata": {},
   "outputs": [
    {
     "name": "stdout",
     "output_type": "stream",
     "text": [
      "Not divisible by 0\n"
     ]
    },
    {
     "data": {
      "text/plain": [
       "[5.0, 2.5, 1.6666666666666667, 1.25]"
      ]
     },
     "execution_count": 14,
     "metadata": {},
     "output_type": "execute_result"
    }
   ],
   "source": [
    "compute([0,1,2,3,4],5)"
   ]
  },
  {
   "cell_type": "markdown",
   "metadata": {},
   "source": [
    "## Task1-2:- Implement a Python program to generate all sentences where subject is in [\"Americans\",\"Indians\"] and verb is in [\"Play\", \"watch\"] and the object is in [\"Baseball\",\"cricket\"]."
   ]
  },
  {
   "cell_type": "code",
   "execution_count": 15,
   "metadata": {},
   "outputs": [],
   "source": [
    "subject=[\"Americans\",\"Indians\"]\n",
    "verb=[\"Play\", \"watch\"]\n",
    "objects=[\"Baseball\",\"cricket\"]"
   ]
  },
  {
   "cell_type": "code",
   "execution_count": 18,
   "metadata": {},
   "outputs": [
    {
     "name": "stdout",
     "output_type": "stream",
     "text": [
      "Americans  Play  Baseball\n",
      "Americans  Play  cricket\n",
      "Americans  watch  Baseball\n",
      "Americans  watch  cricket\n",
      "Indians  Play  Baseball\n",
      "Indians  Play  cricket\n",
      "Indians  watch  Baseball\n",
      "Indians  watch  cricket\n"
     ]
    }
   ],
   "source": [
    "for s in subject:\n",
    "    for v in verb:\n",
    "        for o in objects:\n",
    "            print(s,'',v,'',o)"
   ]
  },
  {
   "cell_type": "markdown",
   "metadata": {},
   "source": [
    "## Task2:- Write a function so that the columns of the output matrix are powers of the input vector. The order of the powers is determined by the increasing boolean argument. Specifically, when increasing is False, the i-th output column is the input vector raised element-wise to the power of N - i - 1."
   ]
  },
  {
   "cell_type": "code",
   "execution_count": 78,
   "metadata": {},
   "outputs": [],
   "source": [
    "import numpy as np"
   ]
  },
  {
   "cell_type": "code",
   "execution_count": 79,
   "metadata": {},
   "outputs": [],
   "source": [
    "def output_matrix(input_vector,increasing):\n",
    "    l=[]\n",
    "    N = len(input_vector)\n",
    "    if(increasing==True):\n",
    "        i = 0\n",
    "        while(i < N):\n",
    "            \n",
    "            l.append(list(map(lambda x : x**i, input_vector)))\n",
    "            i+=1\n",
    "    else:\n",
    "        i = N - 1\n",
    "        while( i >= 0):\n",
    "            l.append(list(map(lambda x : x**i, input_vector)))\n",
    "            i-=1\n",
    "    output = np.matrix(l).transpose()\n",
    "    return output\n",
    "        \n",
    "        "
   ]
  },
  {
   "cell_type": "code",
   "execution_count": 80,
   "metadata": {},
   "outputs": [],
   "source": [
    "input_vector = [1,2,3,4]"
   ]
  },
  {
   "cell_type": "code",
   "execution_count": 81,
   "metadata": {},
   "outputs": [
    {
     "data": {
      "text/plain": [
       "matrix([[ 1,  1,  1,  1],\n",
       "        [ 8,  4,  2,  1],\n",
       "        [27,  9,  3,  1],\n",
       "        [64, 16,  4,  1]])"
      ]
     },
     "execution_count": 81,
     "metadata": {},
     "output_type": "execute_result"
    }
   ],
   "source": [
    "output_matrix(input_vector,False)"
   ]
  },
  {
   "cell_type": "code",
   "execution_count": null,
   "metadata": {},
   "outputs": [],
   "source": []
  }
 ],
 "metadata": {
  "kernelspec": {
   "display_name": "Python 3",
   "language": "python",
   "name": "python3"
  },
  "language_info": {
   "codemirror_mode": {
    "name": "ipython",
    "version": 3
   },
   "file_extension": ".py",
   "mimetype": "text/x-python",
   "name": "python",
   "nbconvert_exporter": "python",
   "pygments_lexer": "ipython3",
   "version": "3.8.2"
  }
 },
 "nbformat": 4,
 "nbformat_minor": 4
}
